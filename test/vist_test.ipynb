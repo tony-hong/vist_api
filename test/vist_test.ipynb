{
 "cells": [
  {
   "cell_type": "code",
   "execution_count": 1,
   "metadata": {},
   "outputs": [],
   "source": [
    "import math\n",
    "import os\n",
    "import os.path as osp\n",
    "import json\n",
    "from datetime import datetime\n",
    "from pprint import pprint\n",
    "from scipy.misc import imread, imresize\n",
    "import matplotlib.pyplot as plt\n",
    "%matplotlib inline\n",
    "plt.rcParams['figure.figsize'] = (10, 10)"
   ]
  },
  {
   "cell_type": "code",
   "execution_count": 2,
   "metadata": {},
   "outputs": [],
   "source": [
    "def is_ascii(s):\n",
    "    return all(ord(c) < 128 for c in s)"
   ]
  },
  {
   "cell_type": "code",
   "execution_count": null,
   "metadata": {},
   "outputs": [],
   "source": []
  },
  {
   "cell_type": "markdown",
   "metadata": {},
   "source": [
    "### VIST directory"
   ]
  },
  {
   "cell_type": "code",
   "execution_count": 3,
   "metadata": {},
   "outputs": [],
   "source": [
    "annotations_dir = '/Users/tonyhong/ROOT/coli/SIND/data'\n",
    "images_dir = ''"
   ]
  },
  {
   "cell_type": "code",
   "execution_count": 4,
   "metadata": {},
   "outputs": [
    {
     "name": "stdout",
     "output_type": "stream",
     "text": [
      "dii's [test] loaded. It took 0.59 seconds.\n",
      "sis's [test] loaded. It took 0.65 seconds.\n"
     ]
    }
   ],
   "source": [
    "split = 'test'\n",
    "# Load dii's split json\n",
    "b = datetime.now()\n",
    "path_to_dii_val = osp.join(annotations_dir, 'dii', split+'.description-in-isolation.json')\n",
    "dii = json.load(open(path_to_dii_val))\n",
    "print 'dii\\'s [%s] loaded. It took %.2f seconds.' % (split, (datetime.now() - b).total_seconds())\n",
    "\n",
    "# Load sis's split json\n",
    "b = datetime.now()\n",
    "path_to_sis_val = osp.join(annotations_dir, 'sis', split+'.story-in-sequence.json')\n",
    "sis = json.load(open(path_to_sis_val))\n",
    "print 'sis\\'s [%s] loaded. It took %.2f seconds.' % (split, (datetime.now() - b).total_seconds())"
   ]
  },
  {
   "cell_type": "code",
   "execution_count": 5,
   "metadata": {},
   "outputs": [
    {
     "name": "stdout",
     "output_type": "stream",
     "text": [
      "dii's [train] loaded. It took 5.25 seconds.\n",
      "sis's [train] loaded. It took 7.66 seconds.\n",
      "dii's [val] loaded. It took 0.52 seconds.\n",
      "sis's [val] loaded. It took 0.94 seconds.\n"
     ]
    }
   ],
   "source": [
    "split = 'train'\n",
    "# Load dii's split json\n",
    "b = datetime.now()\n",
    "path_to_dii_val = osp.join(annotations_dir, 'dii', split+'.description-in-isolation.json')\n",
    "dii_train = json.load(open(path_to_dii_val))\n",
    "print 'dii\\'s [%s] loaded. It took %.2f seconds.' % (split, (datetime.now() - b).total_seconds())\n",
    "\n",
    "# Load sis's split json\n",
    "b = datetime.now()\n",
    "path_to_sis_val = osp.join(annotations_dir, 'sis', split+'.story-in-sequence.json')\n",
    "sis_train = json.load(open(path_to_sis_val))\n",
    "print 'sis\\'s [%s] loaded. It took %.2f seconds.' % (split, (datetime.now() - b).total_seconds())\n",
    "\n",
    "\n",
    "split = 'val'\n",
    "# Load dii's split json\n",
    "b = datetime.now()\n",
    "path_to_dii_val = osp.join(annotations_dir, 'dii', split+'.description-in-isolation.json')\n",
    "dii_val = json.load(open(path_to_dii_val))\n",
    "print 'dii\\'s [%s] loaded. It took %.2f seconds.' % (split, (datetime.now() - b).total_seconds())\n",
    "\n",
    "# Load sis's split json\n",
    "b = datetime.now()\n",
    "path_to_sis_val = osp.join(annotations_dir, 'sis', split+'.story-in-sequence.json')\n",
    "sis_val = json.load(open(path_to_sis_val))\n",
    "print 'sis\\'s [%s] loaded. It took %.2f seconds.' % (split, (datetime.now() - b).total_seconds())"
   ]
  },
  {
   "cell_type": "code",
   "execution_count": 6,
   "metadata": {},
   "outputs": [
    {
     "data": {
      "text/plain": [
       "[u'images', u'info', u'albums', u'type', u'annotations']"
      ]
     },
     "execution_count": 6,
     "metadata": {},
     "output_type": "execute_result"
    }
   ],
   "source": [
    "# Let's check one ann\n",
    "sis.keys()"
   ]
  },
  {
   "cell_type": "code",
   "execution_count": 7,
   "metadata": {},
   "outputs": [
    {
     "data": {
      "text/plain": [
       "[{u'album_id': u'44277',\n",
       "  u'original_text': u'The local parish holds a craft show each year.',\n",
       "  u'photo_flickr_id': u'1741642',\n",
       "  u'setting': u'first-2-pick-and-tell',\n",
       "  u'story_id': u'45530',\n",
       "  u'storylet_id': u'227650',\n",
       "  u'text': u'the local parish holds a craft show each year .',\n",
       "  u'tier': u'story-in-sequence',\n",
       "  u'worker_arranged_photo_order': 0,\n",
       "  u'worker_id': u'FJROI8NWDRIPAM1'}]"
      ]
     },
     "execution_count": 7,
     "metadata": {},
     "output_type": "execute_result"
    }
   ],
   "source": [
    "sis['annotations'][0]"
   ]
  },
  {
   "cell_type": "code",
   "execution_count": 8,
   "metadata": {},
   "outputs": [
    {
     "data": {
      "text/plain": [
       "{u'album_id': u'72157623226515173',\n",
       " u'datetaken': u'2010-01-22 15:08:10',\n",
       " u'id': u'4330155995',\n",
       " u'latitude': u'0',\n",
       " u'license': u'1',\n",
       " u'longitude': u'0',\n",
       " u'media': u'photo',\n",
       " u'secret': u'1a19fcb9eb',\n",
       " u'tags': u'school history philadelphia museum tooth pennsylvania teeth dental medical pa historical philly dentist',\n",
       " u'text': u'',\n",
       " u'title': u'Pretty Bone Dental Tools',\n",
       " u'url_o': u'https://farm3.staticflickr.com/2743/4330155995_e640e4e498_o.jpg'}"
      ]
     },
     "execution_count": 8,
     "metadata": {},
     "output_type": "execute_result"
    }
   ],
   "source": [
    "sis['images'][1000]"
   ]
  },
  {
   "cell_type": "code",
   "execution_count": 9,
   "metadata": {
    "scrolled": false
   },
   "outputs": [
    {
     "data": {
      "text/plain": [
       "{u'date_create': u'1220783782',\n",
       " u'date_update': u'1306981520',\n",
       " u'description': u\"Photo's from Father's Day 2008 at Tread, Wangaratta\",\n",
       " u'farm': u'4',\n",
       " u'id': u'72157607155047588',\n",
       " u'owner': u'50148267@N00',\n",
       " u'photos': u'19',\n",
       " u'primary': u'2835931462',\n",
       " u'secret': u'fa6c97bfe2',\n",
       " u'server': u'3010',\n",
       " u'title': u\"Father's Day 2008\",\n",
       " u'vist_label': u\"father's_day\"}"
      ]
     },
     "execution_count": 9,
     "metadata": {},
     "output_type": "execute_result"
    }
   ],
   "source": [
    "sis['albums'][3]"
   ]
  },
  {
   "cell_type": "code",
   "execution_count": 10,
   "metadata": {},
   "outputs": [],
   "source": [
    "def show_album(alb_id):\n",
    "    img_ids = alb_to_img_ids[alb_id]\n",
    "    plt.figure()\n",
    "    cols = 5\n",
    "    rows = math.ceil(len(img_ids)/float(cols))\n",
    "    for i, img_id in enumerate(img_ids):\n",
    "        img = Images[img_id]\n",
    "        img_file = osp.join(images_dir, split, img['id']+'.jpg')\n",
    "#         img_content = imread(img_file)\n",
    "#         img_content = imresize(img_content, (224, 224))\n",
    "        ax = plt.subplot(rows, cols, i+1)\n",
    "#         ax.imshow(img_content)\n",
    "        ax.axis('off')\n",
    "        ax.set_title(str(img_id)+'\\n'+img['datetaken'][4:])\n",
    "        print(img['url_o'])\n",
    "    plt.show()"
   ]
  },
  {
   "cell_type": "code",
   "execution_count": 11,
   "metadata": {},
   "outputs": [],
   "source": [
    "def show_story(story_id, show_image=True):\n",
    "    sent_ids = story_to_sent_ids[story_id]\n",
    "    if show_image:\n",
    "        plt.figure()\n",
    "        for i, sent_id in enumerate(sent_ids):\n",
    "            img_id = Sents[sent_id]['img_id']\n",
    "            img = Images[img_id]\n",
    "            img_file = osp.join(images_dir, split, str(img_id)+'.jpg')\n",
    "#             img_content = imread(img_file)\n",
    "#             img_content = imresize(img_content, (224, 224))\n",
    "            ax = plt.subplot(1, len(sent_ids), i+1)\n",
    "#             ax.imshow(img_content)\n",
    "            ax.axis('off')\n",
    "            ax.set_title(str(img_id)+'\\n'+img['datetaken'][5:])\n",
    "            print(img['url_o'])\n",
    "        plt.show()\n",
    "    for sent_id in sent_ids:\n",
    "        sent = Sents[sent_id]\n",
    "        img_id = sent['img_id']\n",
    "        img = Images[img_id]\n",
    "        print '%s \\t %s \\n %s' % (img_id, sent['original_text'], img['url_o'])"
   ]
  },
  {
   "cell_type": "code",
   "execution_count": 12,
   "metadata": {},
   "outputs": [],
   "source": [
    "def print_story(story_id, Sents, show_image=True):\n",
    "    sent_ids = story_to_sent_ids[story_id]\n",
    "    print '\\n<story_id=' + story_id + '>'\n",
    "    for sent_id in sent_ids:\n",
    "        sent = Sents[sent_id]\n",
    "        img_id = sent['img_id']\n",
    "        img = Images[img_id]\n",
    "        sent_st = '%s \\n %s \\n' % (img_id, sent['original_text'])\n",
    "        print sent_st\n",
    "#         print '%s \\n %s \\n %s' % (img_id, sent['original_text'], img['url_o'])"
   ]
  },
  {
   "cell_type": "code",
   "execution_count": null,
   "metadata": {},
   "outputs": [],
   "source": []
  },
  {
   "cell_type": "code",
   "execution_count": 25,
   "metadata": {},
   "outputs": [],
   "source": [
    "def get_stories(story_id, Sents, show_image=True):\n",
    "    result = ''\n",
    "    sent_ids = story_to_sent_ids[story_id]\n",
    "    result += '\\nstory_id=' + story_id + '\\n'\n",
    "    for sent_id in sent_ids:\n",
    "        sent = Sents[sent_id]\n",
    "        img_id = sent['img_id']\n",
    "        img = Images[img_id]\n",
    "        sent_st = '%s \\n%s \\n' % (img_id, sent['original_text'])\n",
    "        result += sent_st\n",
    "    if not is_ascii(result):\n",
    "        print 'non ascii !'\n",
    "        return ''\n",
    "    return result"
   ]
  },
  {
   "cell_type": "code",
   "execution_count": null,
   "metadata": {},
   "outputs": [],
   "source": []
  },
  {
   "cell_type": "code",
   "execution_count": null,
   "metadata": {},
   "outputs": [],
   "source": []
  },
  {
   "cell_type": "code",
   "execution_count": null,
   "metadata": {},
   "outputs": [],
   "source": []
  },
  {
   "cell_type": "code",
   "execution_count": null,
   "metadata": {},
   "outputs": [],
   "source": []
  },
  {
   "cell_type": "code",
   "execution_count": null,
   "metadata": {},
   "outputs": [],
   "source": []
  },
  {
   "cell_type": "code",
   "execution_count": null,
   "metadata": {},
   "outputs": [],
   "source": []
  },
  {
   "cell_type": "code",
   "execution_count": null,
   "metadata": {},
   "outputs": [],
   "source": []
  },
  {
   "cell_type": "code",
   "execution_count": 14,
   "metadata": {},
   "outputs": [],
   "source": [
    "all_imgs = sis_train['images']\n",
    "all_albums = sis_train['albums']\n",
    "all_annotations = sis_train['annotations']"
   ]
  },
  {
   "cell_type": "code",
   "execution_count": 55,
   "metadata": {},
   "outputs": [],
   "source": [
    "all_imgs = sis['images'] + sis_train['images'] + sis_val['images']\n",
    "all_albums = sis['albums'] + sis_train['albums'] + sis_val['albums']\n",
    "all_annotations = sis['annotations'] + sis_train['annotations'] + sis_val['annotations']"
   ]
  },
  {
   "cell_type": "code",
   "execution_count": null,
   "metadata": {},
   "outputs": [],
   "source": []
  },
  {
   "cell_type": "code",
   "execution_count": 15,
   "metadata": {},
   "outputs": [],
   "source": [
    "Images = {item['id']: item for item in all_imgs}\n",
    "Albums = {item['id']: item for item in all_albums}\n",
    "\n",
    "alb_to_img_ids = {}\n",
    "for item in all_imgs:\n",
    "    alb_id = item['album_id']\n",
    "    img_id = item['id']\n",
    "    alb_to_img_ids[alb_id] = alb_to_img_ids.get(alb_id, []) + [img_id]\n",
    "\n",
    "# sort img_ids based on datetime\n",
    "def getDateTime(img_id):\n",
    "    x = Images[img_id]['datetaken']\n",
    "    return datetime.strptime(x, '%Y-%m-%d %H:%M:%S')\n",
    "# for alb_id, img_ids in alb_to_img_ids.items():\n",
    "#     img_ids.sort(key=getDateTime)"
   ]
  },
  {
   "cell_type": "code",
   "execution_count": null,
   "metadata": {},
   "outputs": [],
   "source": []
  },
  {
   "cell_type": "code",
   "execution_count": null,
   "metadata": {},
   "outputs": [],
   "source": []
  },
  {
   "cell_type": "code",
   "execution_count": 16,
   "metadata": {},
   "outputs": [],
   "source": [
    "# make sents = [{}]\n",
    "sents = []\n",
    "for ann in all_annotations:\n",
    "    sent = ann[0].copy()\n",
    "    sent['id'] = sent.pop('storylet_id')\n",
    "    sent['order'] = sent.pop('worker_arranged_photo_order')\n",
    "    sent['img_id'] = sent.pop('photo_flickr_id')\n",
    "    sents += [sent]\n",
    "Sents = {sent['id']: sent for sent in sents}\n",
    "\n",
    "# story_id -> sent_ids\n",
    "story_to_sent_ids = {}\n",
    "for sent_id, sent in Sents.items():\n",
    "    story_id = sent['story_id']\n",
    "    story_to_sent_ids[story_id] = story_to_sent_ids.get(story_id, []) + [sent_id]\n",
    "\n",
    "def get_order(sent_id):\n",
    "    return Sents[sent_id]['order']\n",
    "for story_id, sent_ids in story_to_sent_ids.items():\n",
    "    sent_ids.sort(key=get_order)\n",
    "    \n",
    "# alb_id -> story_ids\n",
    "alb_to_story_ids = {}\n",
    "for story_id, sent_ids in story_to_sent_ids.items():\n",
    "    sent = Sents[sent_ids[0]]\n",
    "    alb_id = sent['album_id']\n",
    "    alb_to_story_ids[alb_id] = alb_to_story_ids.get(alb_id, []) + [story_id]"
   ]
  },
  {
   "cell_type": "code",
   "execution_count": null,
   "metadata": {},
   "outputs": [],
   "source": []
  },
  {
   "cell_type": "code",
   "execution_count": 17,
   "metadata": {},
   "outputs": [
    {
     "ename": "KeyError",
     "evalue": "'72157594542419706'",
     "output_type": "error",
     "traceback": [
      "\u001b[0;31m---------------------------------------------------------------------------\u001b[0m",
      "\u001b[0;31mKeyError\u001b[0m                                  Traceback (most recent call last)",
      "\u001b[0;32m<ipython-input-17-119bf66d0e6d>\u001b[0m in \u001b[0;36m<module>\u001b[0;34m()\u001b[0m\n\u001b[1;32m      1\u001b[0m \u001b[0malb_id\u001b[0m \u001b[0;34m=\u001b[0m \u001b[0;34m'72157594542419706'\u001b[0m\u001b[0;34m\u001b[0m\u001b[0m\n\u001b[0;32m----> 2\u001b[0;31m \u001b[0mshow_album\u001b[0m\u001b[0;34m(\u001b[0m\u001b[0malb_id\u001b[0m\u001b[0;34m)\u001b[0m\u001b[0;34m\u001b[0m\u001b[0m\n\u001b[0m",
      "\u001b[0;32m<ipython-input-10-8142dd2688c8>\u001b[0m in \u001b[0;36mshow_album\u001b[0;34m(alb_id)\u001b[0m\n\u001b[1;32m      1\u001b[0m \u001b[0;32mdef\u001b[0m \u001b[0mshow_album\u001b[0m\u001b[0;34m(\u001b[0m\u001b[0malb_id\u001b[0m\u001b[0;34m)\u001b[0m\u001b[0;34m:\u001b[0m\u001b[0;34m\u001b[0m\u001b[0m\n\u001b[0;32m----> 2\u001b[0;31m     \u001b[0mimg_ids\u001b[0m \u001b[0;34m=\u001b[0m \u001b[0malb_to_img_ids\u001b[0m\u001b[0;34m[\u001b[0m\u001b[0malb_id\u001b[0m\u001b[0;34m]\u001b[0m\u001b[0;34m\u001b[0m\u001b[0m\n\u001b[0m\u001b[1;32m      3\u001b[0m     \u001b[0mplt\u001b[0m\u001b[0;34m.\u001b[0m\u001b[0mfigure\u001b[0m\u001b[0;34m(\u001b[0m\u001b[0;34m)\u001b[0m\u001b[0;34m\u001b[0m\u001b[0m\n\u001b[1;32m      4\u001b[0m     \u001b[0mcols\u001b[0m \u001b[0;34m=\u001b[0m \u001b[0;36m5\u001b[0m\u001b[0;34m\u001b[0m\u001b[0m\n\u001b[1;32m      5\u001b[0m     \u001b[0mrows\u001b[0m \u001b[0;34m=\u001b[0m \u001b[0mmath\u001b[0m\u001b[0;34m.\u001b[0m\u001b[0mceil\u001b[0m\u001b[0;34m(\u001b[0m\u001b[0mlen\u001b[0m\u001b[0;34m(\u001b[0m\u001b[0mimg_ids\u001b[0m\u001b[0;34m)\u001b[0m\u001b[0;34m/\u001b[0m\u001b[0mfloat\u001b[0m\u001b[0;34m(\u001b[0m\u001b[0mcols\u001b[0m\u001b[0;34m)\u001b[0m\u001b[0;34m)\u001b[0m\u001b[0;34m\u001b[0m\u001b[0m\n",
      "\u001b[0;31mKeyError\u001b[0m: '72157594542419706'"
     ]
    }
   ],
   "source": [
    "alb_id = '72157594542419706'\n",
    "show_album(alb_id)"
   ]
  },
  {
   "cell_type": "code",
   "execution_count": 18,
   "metadata": {
    "scrolled": true
   },
   "outputs": [
    {
     "ename": "KeyError",
     "evalue": "'72157594542419706'",
     "output_type": "error",
     "traceback": [
      "\u001b[0;31m---------------------------------------------------------------------------\u001b[0m",
      "\u001b[0;31mKeyError\u001b[0m                                  Traceback (most recent call last)",
      "\u001b[0;32m<ipython-input-18-0acad8de2ede>\u001b[0m in \u001b[0;36m<module>\u001b[0;34m()\u001b[0m\n\u001b[0;32m----> 1\u001b[0;31m \u001b[0mstory_ids\u001b[0m \u001b[0;34m=\u001b[0m \u001b[0malb_to_story_ids\u001b[0m\u001b[0;34m[\u001b[0m\u001b[0malb_id\u001b[0m\u001b[0;34m]\u001b[0m\u001b[0;34m\u001b[0m\u001b[0m\n\u001b[0m\u001b[1;32m      2\u001b[0m \u001b[0;32mprint\u001b[0m \u001b[0;34m'This album has %s stories.'\u001b[0m \u001b[0;34m%\u001b[0m \u001b[0mlen\u001b[0m\u001b[0;34m(\u001b[0m\u001b[0mstory_ids\u001b[0m\u001b[0;34m)\u001b[0m\u001b[0;34m\u001b[0m\u001b[0m\n\u001b[1;32m      3\u001b[0m \u001b[0;32mfor\u001b[0m \u001b[0mi\u001b[0m \u001b[0;32min\u001b[0m \u001b[0mrange\u001b[0m\u001b[0;34m(\u001b[0m\u001b[0;36m5\u001b[0m\u001b[0;34m)\u001b[0m\u001b[0;34m:\u001b[0m\u001b[0;34m\u001b[0m\u001b[0m\n\u001b[1;32m      4\u001b[0m     \u001b[0;32mprint\u001b[0m\u001b[0;34m(\u001b[0m\u001b[0;34m'Story'\u001b[0m\u001b[0;34m,\u001b[0m \u001b[0mi\u001b[0m\u001b[0;34m)\u001b[0m\u001b[0;34m\u001b[0m\u001b[0m\n\u001b[1;32m      5\u001b[0m     \u001b[0mshow_story\u001b[0m\u001b[0;34m(\u001b[0m\u001b[0mstory_ids\u001b[0m\u001b[0;34m[\u001b[0m\u001b[0mi\u001b[0m\u001b[0;34m]\u001b[0m\u001b[0;34m,\u001b[0m \u001b[0mFalse\u001b[0m\u001b[0;34m)\u001b[0m\u001b[0;34m\u001b[0m\u001b[0m\n",
      "\u001b[0;31mKeyError\u001b[0m: '72157594542419706'"
     ]
    }
   ],
   "source": [
    "story_ids = alb_to_story_ids[alb_id]\n",
    "print 'This album has %s stories.' % len(story_ids)\n",
    "for i in range(5):\n",
    "    print('Story', i)\n",
    "    show_story(story_ids[i], False)"
   ]
  },
  {
   "cell_type": "code",
   "execution_count": 23,
   "metadata": {},
   "outputs": [
    {
     "data": {
      "text/plain": [
       "8031"
      ]
     },
     "execution_count": 23,
     "metadata": {},
     "output_type": "execute_result"
    }
   ],
   "source": [
    "len(all_albums)"
   ]
  },
  {
   "cell_type": "code",
   "execution_count": null,
   "metadata": {},
   "outputs": [],
   "source": []
  },
  {
   "cell_type": "code",
   "execution_count": 26,
   "metadata": {},
   "outputs": [
    {
     "name": "stdout",
     "output_type": "stream",
     "text": [
      "non ascii !\n",
      "non ascii !\n",
      "non ascii !\n",
      "non ascii !\n",
      "non ascii !\n",
      "non ascii !\n",
      "non ascii !\n",
      "non ascii !\n",
      "non ascii !\n",
      "non ascii !\n",
      "non ascii !\n",
      "non ascii !\n",
      "non ascii !\n",
      "non ascii !\n",
      "non ascii !\n",
      "non ascii !\n",
      "non ascii !\n",
      "non ascii !\n",
      "non ascii !\n",
      "non ascii !\n",
      "non ascii !\n",
      "non ascii !\n",
      "non ascii !\n",
      "non ascii !\n",
      "non ascii !\n",
      "non ascii !\n",
      "non ascii !\n",
      "non ascii !\n",
      "non ascii !\n",
      "non ascii !\n",
      "non ascii !\n",
      "non ascii !\n",
      "non ascii !\n",
      "non ascii !\n",
      "non ascii !\n",
      "non ascii !\n",
      "non ascii !\n",
      "non ascii !\n",
      "non ascii !\n",
      "non ascii !\n",
      "non ascii !\n",
      "non ascii !\n",
      "non ascii !\n",
      "non ascii !\n",
      "non ascii !\n",
      "non ascii !\n",
      "non ascii !\n",
      "non ascii !\n",
      "non ascii !\n",
      "non ascii !\n",
      "non ascii !\n",
      "non ascii !\n",
      "non ascii !\n",
      "non ascii !\n",
      "non ascii !\n",
      "non ascii !\n",
      "non ascii !\n",
      "non ascii !\n",
      "non ascii !\n",
      "non ascii !\n",
      "non ascii !\n",
      "non ascii !\n",
      "non ascii !\n",
      "non ascii !\n",
      "non ascii !\n",
      "non ascii !\n",
      "non ascii !\n"
     ]
    }
   ],
   "source": [
    "num_stories = 0\n",
    "num_albums = 0\n",
    "num_file = 0\n",
    "final_res = ''\n",
    "for album in all_albums:\n",
    "    album_id = album['id']\n",
    "    story_ids = alb_to_story_ids[album_id]\n",
    "    final_res += '\\nalbum_id=' + album_id\n",
    "#     print 'This album has %s stories.' % len(story_ids)\n",
    "    for story_id in story_ids:\n",
    "#         print('Story', story_id)\n",
    "        stories = get_stories(story_id, Sents, False)\n",
    "        final_res += stories\n",
    "    num_albums += 1\n",
    "    if num_albums % 600 == 0:\n",
    "        f = open('train_sind'+ str(num_file) +'.txt', 'w')\n",
    "        f.write(final_res)\n",
    "        final_res = ''\n",
    "        f.close()\n",
    "        num_file += 1\n",
    "        \n",
    "# ## DEBUG\n",
    "#     num_stories += 1\n",
    "#     if num_stories > 10:\n",
    "#         break\n"
   ]
  },
  {
   "cell_type": "code",
   "execution_count": 27,
   "metadata": {},
   "outputs": [],
   "source": []
  },
  {
   "cell_type": "code",
   "execution_count": null,
   "metadata": {},
   "outputs": [],
   "source": []
  },
  {
   "cell_type": "code",
   "execution_count": 35,
   "metadata": {},
   "outputs": [
    {
     "name": "stdout",
     "output_type": "stream",
     "text": [
      " I decided to take a\n"
     ]
    }
   ],
   "source": [
    "print final_res[751925:751945]\n"
   ]
  },
  {
   "cell_type": "code",
   "execution_count": null,
   "metadata": {},
   "outputs": [],
   "source": []
  },
  {
   "cell_type": "code",
   "execution_count": 31,
   "metadata": {},
   "outputs": [
    {
     "data": {
      "text/plain": [
       "True"
      ]
     },
     "execution_count": 31,
     "metadata": {},
     "output_type": "execute_result"
    }
   ],
   "source": [
    "is_ascii(final_res[1:10])"
   ]
  },
  {
   "cell_type": "code",
   "execution_count": null,
   "metadata": {},
   "outputs": [],
   "source": []
  },
  {
   "cell_type": "code",
   "execution_count": 48,
   "metadata": {},
   "outputs": [
    {
     "data": {
      "text/plain": [
       "1797220"
      ]
     },
     "execution_count": 48,
     "metadata": {},
     "output_type": "execute_result"
    }
   ],
   "source": [
    "len(final_res)"
   ]
  },
  {
   "cell_type": "code",
   "execution_count": null,
   "metadata": {},
   "outputs": [],
   "source": []
  },
  {
   "cell_type": "code",
   "execution_count": null,
   "metadata": {},
   "outputs": [],
   "source": []
  },
  {
   "cell_type": "code",
   "execution_count": 53,
   "metadata": {},
   "outputs": [],
   "source": []
  },
  {
   "cell_type": "code",
   "execution_count": null,
   "metadata": {},
   "outputs": [],
   "source": []
  },
  {
   "cell_type": "code",
   "execution_count": null,
   "metadata": {},
   "outputs": [],
   "source": []
  },
  {
   "cell_type": "code",
   "execution_count": null,
   "metadata": {},
   "outputs": [],
   "source": []
  },
  {
   "cell_type": "code",
   "execution_count": null,
   "metadata": {},
   "outputs": [],
   "source": []
  },
  {
   "cell_type": "code",
   "execution_count": null,
   "metadata": {},
   "outputs": [],
   "source": []
  },
  {
   "cell_type": "code",
   "execution_count": null,
   "metadata": {},
   "outputs": [],
   "source": []
  },
  {
   "cell_type": "code",
   "execution_count": null,
   "metadata": {},
   "outputs": [],
   "source": []
  },
  {
   "cell_type": "code",
   "execution_count": null,
   "metadata": {},
   "outputs": [],
   "source": []
  },
  {
   "cell_type": "code",
   "execution_count": null,
   "metadata": {},
   "outputs": [],
   "source": []
  },
  {
   "cell_type": "code",
   "execution_count": null,
   "metadata": {},
   "outputs": [],
   "source": []
  },
  {
   "cell_type": "code",
   "execution_count": null,
   "metadata": {},
   "outputs": [],
   "source": []
  },
  {
   "cell_type": "code",
   "execution_count": null,
   "metadata": {},
   "outputs": [],
   "source": []
  },
  {
   "cell_type": "code",
   "execution_count": 42,
   "metadata": {},
   "outputs": [],
   "source": [
    "# alb_ids = Albums.keys()\n",
    "# alb_id = alb_ids[2]; print alb_id\n",
    "# show_album(alb_id)"
   ]
  },
  {
   "cell_type": "code",
   "execution_count": null,
   "metadata": {},
   "outputs": [],
   "source": [
    "sis['type']"
   ]
  },
  {
   "cell_type": "code",
   "execution_count": null,
   "metadata": {},
   "outputs": [],
   "source": [
    "dii.keys()"
   ]
  },
  {
   "cell_type": "code",
   "execution_count": null,
   "metadata": {},
   "outputs": [],
   "source": [
    "pprint(dii['annotations'][0][0])\n",
    "pprint(dii['annotations'][5][0])"
   ]
  },
  {
   "cell_type": "code",
   "execution_count": null,
   "metadata": {},
   "outputs": [],
   "source": [
    "sis['annotations'][0][0]"
   ]
  },
  {
   "cell_type": "code",
   "execution_count": null,
   "metadata": {},
   "outputs": [],
   "source": [
    "sis['albums'][0]['id']"
   ]
  },
  {
   "cell_type": "code",
   "execution_count": null,
   "metadata": {},
   "outputs": [],
   "source": [
    "for i in range(len(sis['albums'])):\n",
    "    if not sis['albums'][i]['id'] == dii['albums'][i]['id']:\n",
    "        print 'inconsitancy found.'"
   ]
  },
  {
   "cell_type": "code",
   "execution_count": null,
   "metadata": {},
   "outputs": [],
   "source": [
    "sis['albums'][0]"
   ]
  },
  {
   "cell_type": "code",
   "execution_count": null,
   "metadata": {},
   "outputs": [],
   "source": [
    "sis['images'][7]['id']"
   ]
  },
  {
   "cell_type": "code",
   "execution_count": null,
   "metadata": {},
   "outputs": [],
   "source": [
    "sis['annotations'][14]"
   ]
  },
  {
   "cell_type": "code",
   "execution_count": null,
   "metadata": {},
   "outputs": [],
   "source": [
    "dii['annotations'][14]"
   ]
  },
  {
   "cell_type": "code",
   "execution_count": null,
   "metadata": {},
   "outputs": [],
   "source": [
    "for i in range(len(sis['annotations'][:2])):\n",
    "    sd = sis['annotations'][i][0]\n",
    "    dd = dii['annotations'][i][0]\n",
    "    if sd['album_id'] != dd['album_id'] or sd['photo_flickr_id'] != dd['photo_flickr_id']  \\\n",
    "        or sd['worker_arranged_photo_order'] != dd['photo_order_in_story']:\n",
    "            print 'k'"
   ]
  },
  {
   "cell_type": "code",
   "execution_count": null,
   "metadata": {},
   "outputs": [],
   "source": [
    "import visual_genome.local as vg"
   ]
  },
  {
   "cell_type": "code",
   "execution_count": null,
   "metadata": {},
   "outputs": [],
   "source": [
    "VG_img_dats = vg.get_all_image_data('/Users/tonyhong/ROOT/coli/VisualGenome')"
   ]
  },
  {
   "cell_type": "code",
   "execution_count": null,
   "metadata": {},
   "outputs": [],
   "source": [
    "len(VG_img_dat)"
   ]
  },
  {
   "cell_type": "code",
   "execution_count": null,
   "metadata": {},
   "outputs": [],
   "source": [
    "flickr2VG = dict()\n",
    "for i, VG_img in enumerate(VG_img_dats):\n",
    "    flickr2VG[str(VG_img.flickr_id)] = VG_img.id\n",
    "#     if VG_img.flickr_id:\n",
    "#     print VG_img.flickr_id\n",
    "len(VG_flickr_ids)"
   ]
  },
  {
   "cell_type": "code",
   "execution_count": null,
   "metadata": {},
   "outputs": [],
   "source": [
    "VG_ids = set(flickr2VG.keys())\n",
    "# flickr2VG[2835098587]"
   ]
  },
  {
   "cell_type": "code",
   "execution_count": null,
   "metadata": {},
   "outputs": [],
   "source": []
  },
  {
   "cell_type": "code",
   "execution_count": null,
   "metadata": {},
   "outputs": [],
   "source": [
    "len_sis_test = len(sis['images'])\n",
    "SIND_test_ids = {img['id'] for img in sis['images']}\n",
    "SIND_train_ids = {img['id'] for img in sis_train['images']}\n",
    "SIND_val_ids = {img['id'] for img in sis_val['images']}\n",
    "print len(SIND_train_ids)\n",
    "print len(SIND_val_ids)"
   ]
  },
  {
   "cell_type": "code",
   "execution_count": null,
   "metadata": {},
   "outputs": [],
   "source": []
  },
  {
   "cell_type": "code",
   "execution_count": null,
   "metadata": {},
   "outputs": [],
   "source": [
    "flickr2VG.keys()[0]"
   ]
  },
  {
   "cell_type": "code",
   "execution_count": null,
   "metadata": {},
   "outputs": [],
   "source": [
    "joint_set = set()\n",
    "joint_set.update(VG_ids & SIND_train_ids)\n",
    "joint_set.update(VG_ids & SIND_test_ids)\n",
    "joint_set.update(VG_ids & SIND_val_ids)\n",
    "joint_list = list(joint_set)\n",
    "len(joint_list)"
   ]
  },
  {
   "cell_type": "code",
   "execution_count": null,
   "metadata": {},
   "outputs": [],
   "source": [
    "flickr2VG['497007959']"
   ]
  },
  {
   "cell_type": "code",
   "execution_count": null,
   "metadata": {},
   "outputs": [],
   "source": [
    "# print len(Images)\n",
    "story_dict = dict()\n",
    "for idx in joint_list:\n",
    "    if Images.get(idx, -1) != -1:\n",
    "#         print('image_id', idx)\n",
    "        album_id = Images[idx]['album_id']\n",
    "#         print('album_id', album_id)\n",
    "        story_ids = alb_to_story_ids[album_id]\n",
    "#         print('story_ids', story_ids)\n",
    "        for story_id in story_ids:\n",
    "            sent_ids = story_to_sent_ids[story_id]\n",
    "            for sent_id in sent_ids:\n",
    "                sent_img_id = Sents[sent_id]['img_id']\n",
    "                if sent_img_id == idx:\n",
    "                    story_dict[story_id] = idx\n",
    "#         print '\\n'\n",
    "        \n",
    "len(story_dict)"
   ]
  },
  {
   "cell_type": "code",
   "execution_count": null,
   "metadata": {},
   "outputs": [],
   "source": [
    "for it in story_dict.items():\n",
    "    print it[1]\n",
    "    show_story(it[0], False)\n",
    "    print ''\n",
    "    print ''"
   ]
  },
  {
   "cell_type": "code",
   "execution_count": 40,
   "metadata": {},
   "outputs": [
    {
     "ename": "KeyError",
     "evalue": "'72157594542419706'",
     "output_type": "error",
     "traceback": [
      "\u001b[0;31m---------------------------------------------------------------------------\u001b[0m",
      "\u001b[0;31mKeyError\u001b[0m                                  Traceback (most recent call last)",
      "\u001b[0;32m<ipython-input-40-39780721bec4>\u001b[0m in \u001b[0;36m<module>\u001b[0;34m()\u001b[0m\n\u001b[0;32m----> 1\u001b[0;31m \u001b[0malb_to_img_ids\u001b[0m\u001b[0;34m[\u001b[0m\u001b[0;34m'72157594542419706'\u001b[0m\u001b[0;34m]\u001b[0m\u001b[0;34m\u001b[0m\u001b[0m\n\u001b[0m",
      "\u001b[0;31mKeyError\u001b[0m: '72157594542419706'"
     ]
    }
   ],
   "source": [
    "\n"
   ]
  },
  {
   "cell_type": "code",
   "execution_count": null,
   "metadata": {},
   "outputs": [],
   "source": []
  },
  {
   "cell_type": "code",
   "execution_count": null,
   "metadata": {},
   "outputs": [],
   "source": []
  },
  {
   "cell_type": "code",
   "execution_count": null,
   "metadata": {},
   "outputs": [],
   "source": []
  },
  {
   "cell_type": "code",
   "execution_count": null,
   "metadata": {},
   "outputs": [],
   "source": []
  },
  {
   "cell_type": "code",
   "execution_count": null,
   "metadata": {},
   "outputs": [],
   "source": []
  },
  {
   "cell_type": "code",
   "execution_count": null,
   "metadata": {},
   "outputs": [],
   "source": []
  },
  {
   "cell_type": "code",
   "execution_count": null,
   "metadata": {},
   "outputs": [],
   "source": []
  },
  {
   "cell_type": "code",
   "execution_count": null,
   "metadata": {},
   "outputs": [],
   "source": []
  },
  {
   "cell_type": "code",
   "execution_count": null,
   "metadata": {},
   "outputs": [],
   "source": []
  }
 ],
 "metadata": {
  "kernelspec": {
   "display_name": "Python 2",
   "language": "python",
   "name": "python2"
  },
  "language_info": {
   "codemirror_mode": {
    "name": "ipython",
    "version": 2
   },
   "file_extension": ".py",
   "mimetype": "text/x-python",
   "name": "python",
   "nbconvert_exporter": "python",
   "pygments_lexer": "ipython2",
   "version": "2.7.15"
  }
 },
 "nbformat": 4,
 "nbformat_minor": 1
}
