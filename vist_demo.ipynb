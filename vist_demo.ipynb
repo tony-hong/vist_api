{
 "cells": [
  {
   "cell_type": "code",
   "execution_count": 1,
   "metadata": {},
   "outputs": [],
   "source": [
    "import vist\n",
    "import matplotlib.pyplot as plt\n",
    "from datetime import datetime\n",
    "from pprint import pprint\n",
    "%matplotlib inline\n",
    "plt.rcParams['figure.figsize'] = (10, 10)"
   ]
  },
  {
   "cell_type": "markdown",
   "metadata": {},
   "source": [
    "### Load Story-in-Sequence Instance"
   ]
  },
  {
   "cell_type": "code",
   "execution_count": 2,
   "metadata": {},
   "outputs": [
    {
     "name": "stdout",
     "output_type": "stream",
     "text": [
      "sis's [train] loaded. It took 6.28 seconds.\n",
      "sis's [val] loaded. It took 0.89 seconds.\n",
      "sis's [test] loaded. It took 0.83 seconds.\n",
      "Make mapping ...\n",
      "Mapping for [Albums][Images][Stories][Sents] done.\n"
     ]
    }
   ],
   "source": [
    "vist_images_dir = '/playpen/data/vist/images'\n",
    "vist_annotations_dir = '/Users/tonyhong/ROOT/coli/SIND/data'\n",
    "sis = vist.Story_in_Sequence(vist_images_dir, vist_annotations_dir)"
   ]
  },
  {
   "cell_type": "code",
   "execution_count": null,
   "metadata": {},
   "outputs": [],
   "source": []
  },
  {
   "cell_type": "markdown",
   "metadata": {},
   "source": [
    "### Let's check one album."
   ]
  },
  {
   "cell_type": "code",
   "execution_count": 3,
   "metadata": {},
   "outputs": [
    {
     "name": "stdout",
     "output_type": "stream",
     "text": [
      "{u'date_create': u'221543',\n",
      " u'date_update': u'1322851072',\n",
      " u'description': u\"Not only is that an awesome name for a band, but it's also a dream come true!\\n\\nEver since Tom Hanks in &quot;Big&quot; I've always wanted to find some creeped out abandoned amusement park. Now I have, and on my birthday, no less. I've died and gone to heaven. =o]\",\n",
      " u'farm': u'1',\n",
      " u'id': u'221543',\n",
      " 'img_ids': [u'8605942',\n",
      "             u'8605855',\n",
      "             u'8605810',\n",
      "             u'8605754',\n",
      "             u'8605649',\n",
      "             u'8605552',\n",
      "             u'8605479',\n",
      "             u'8605411',\n",
      "             u'8605354',\n",
      "             u'8605232',\n",
      "             u'8605170',\n",
      "             u'8605117',\n",
      "             u'8605070',\n",
      "             u'8605009'],\n",
      " u'owner': u'51035603349@N01',\n",
      " u'photos': u'14',\n",
      " u'primary': u'8605942',\n",
      " u'secret': u'6e7db22851',\n",
      " u'server': u'8',\n",
      " 'split': 'train',\n",
      " 'story_ids': [u'3024', u'3023', u'3022', u'3021', u'3020'],\n",
      " u'title': u'Leftsider & the Abandoned Carnival',\n",
      " u'vist_label': u'amusement_park'}\n"
     ]
    }
   ],
   "source": [
    "album_id = sis.Albums.keys()[0]\n",
    "# sis.show_album(album_id)\n",
    "album = sis.Albums[album_id]\n",
    "pprint(album)"
   ]
  },
  {
   "cell_type": "markdown",
   "metadata": {},
   "source": [
    "### Check its story"
   ]
  },
  {
   "cell_type": "code",
   "execution_count": 4,
   "metadata": {},
   "outputs": [
    {
     "name": "stdout",
     "output_type": "stream",
     "text": [
      "[u'8605942', u'8605855', u'8605354', u'8605170', u'8605117']\n"
     ]
    }
   ],
   "source": [
    "story_ids = sis.Albums[album_id]['story_ids']\n",
    "story_id = story_ids[0]\n",
    "# sis.show_story(story_id)\n",
    "print sis.Stories[story_id]['img_ids']"
   ]
  },
  {
   "cell_type": "markdown",
   "metadata": {},
   "source": [
    "## Here are some stats about SIS dataset."
   ]
  },
  {
   "cell_type": "code",
   "execution_count": 5,
   "metadata": {},
   "outputs": [
    {
     "name": "stdout",
     "output_type": "stream",
     "text": [
      "There are [8031] albums in [train] split.\n",
      "There are [998] albums in [val] split.\n",
      "There are [1011] albums in [test] split.\n",
      "In total, there are [10040] albums.\n"
     ]
    }
   ],
   "source": [
    "# albums stats\n",
    "split_to_album_ids = {'train': [], 'val': [], 'test': []}\n",
    "total_albums = 0\n",
    "for split in ['train', 'val', 'test']:\n",
    "    split_to_album_ids[split] = [album_id for album_id, album in sis.Albums.items() if album['split'] == split]\n",
    "    print 'There are [%s] albums in [%s] split.' % (len(split_to_album_ids[split]), split)\n",
    "    total_albums += len(split_to_album_ids[split])\n",
    "print 'In total, there are [%s] albums.' % total_albums"
   ]
  },
  {
   "cell_type": "code",
   "execution_count": 6,
   "metadata": {},
   "outputs": [
    {
     "name": "stdout",
     "output_type": "stream",
     "text": [
      "There are [40155] stories in [train] split.\n",
      "There are [4990] stories in [val] split.\n",
      "There are [5055] stories in [test] split.\n",
      "In total, there are [50200] stories.\n"
     ]
    }
   ],
   "source": [
    "# stories stats\n",
    "split_to_story_ids = {'train': [], 'val': [], 'test': []}\n",
    "for story in sis.stories:\n",
    "    album_id = story['album_id']\n",
    "    split = sis.Albums[album_id]['split']\n",
    "    split_to_story_ids[split] += [story['id']]\n",
    "total_stories = 0\n",
    "for split in ['train', 'val', 'test']:\n",
    "    print 'There are [%s] stories in [%s] split.' % (len(split_to_story_ids[split]), split)\n",
    "    total_stories += len(split_to_story_ids[split])\n",
    "print 'In total, there are [%s] stories.' % (total_stories)"
   ]
  },
  {
   "cell_type": "code",
   "execution_count": 7,
   "metadata": {},
   "outputs": [
    {
     "name": "stdout",
     "output_type": "stream",
     "text": [
      "SIS:\n",
      "There are [200775] sents in [train] split.\n",
      "There are [24950] sents in [val] split.\n",
      "There are [25275] sents in [test] split.\n",
      "In total, there are [251000] sents.\n"
     ]
    }
   ],
   "source": [
    "# sents stats\n",
    "print 'SIS:'\n",
    "split_to_sent_ids = {'train': [], 'val': [], 'test': []}\n",
    "for sent in sis.sents:\n",
    "    album_id = sent['album_id']\n",
    "    split = sis.Albums[album_id]['split']\n",
    "    split_to_sent_ids[split] += [sent['id']]\n",
    "total_sents = 0\n",
    "for split in ['train', 'val', 'test']:\n",
    "    print 'There are [%s] sents in [%s] split.' % (len(split_to_sent_ids[split]), split)\n",
    "    total_sents += len(split_to_sent_ids[split])\n",
    "print 'In total, there are [%s] sents.' % (total_sents)"
   ]
  },
  {
   "cell_type": "code",
   "execution_count": 8,
   "metadata": {},
   "outputs": [
    {
     "name": "stdout",
     "output_type": "stream",
     "text": [
      "Among 50200 stories, 31481 [62.71%] are in order\n"
     ]
    }
   ],
   "source": [
    "# check story order\n",
    "def check_dts_order(dts):\n",
    "    flag = True\n",
    "    for i in range(1, len(dts)):\n",
    "        if dts[i] <= dts[i-1]:\n",
    "            flag = False\n",
    "    return flag\n",
    "\n",
    "inorder = 0\n",
    "for story in sis.stories:\n",
    "    dts = []\n",
    "    for i, sent_id in enumerate(story['sent_ids']):\n",
    "        sent = sis.Sents[sent_id]\n",
    "        assert sent['order'] == i\n",
    "        img = sis.Images[sent['img_id']]\n",
    "        dt = datetime.strptime(img['datetaken'], '%Y-%m-%d %H:%M:%S')\n",
    "        dts += [dt]\n",
    "    if check_dts_order(dts):\n",
    "        inorder += 1\n",
    "print 'Among %s stories, %s [%.2f%%] are in order' % (len(sis.stories), inorder, inorder*100.0/len(sis.stories))"
   ]
  },
  {
   "cell_type": "code",
   "execution_count": 9,
   "metadata": {},
   "outputs": [],
   "source": [
    "# img_ids = sis.Stories[story_id]['img_ids']\n",
    "# dii.show_imgs_with_sents(img_ids, False)"
   ]
  },
  {
   "cell_type": "code",
   "execution_count": 10,
   "metadata": {},
   "outputs": [
    {
     "name": "stdout",
     "output_type": "stream",
     "text": [
      "dii's [train] loaded. It took 8.69 seconds.\n",
      "dii's [val] loaded. It took 0.65 seconds.\n",
      "dii's [test] loaded. It took 0.47 seconds.\n",
      "Make mapping ...\n",
      "Mapping for [Albums][Images][Sents] done.\n",
      "DII:\n",
      "There are [120465] sents in [train] split.\n",
      "There are [14970] sents in [val] split.\n",
      "There are [15165] sents in [test] split.\n",
      "In total, there are [150600] sents.\n"
     ]
    }
   ],
   "source": [
    "# Load DII instance\n",
    "dii = vist.Description_in_Isolation(vist_images_dir, vist_annotations_dir)\n",
    "\n",
    "# DII's sents stats\n",
    "print 'DII:'\n",
    "dii_split_to_sent_ids = {'train': [], 'val': [], 'test': []}\n",
    "for sent in dii.sents:\n",
    "    album_id = sent['album_id']\n",
    "    split = dii.Albums[album_id]['split']\n",
    "    dii_split_to_sent_ids[split] += [sent['id']]\n",
    "total_sents = 0\n",
    "for split in ['train', 'val', 'test']:\n",
    "    print 'There are [%s] sents in [%s] split.' % (len(dii_split_to_sent_ids[split]), split)\n",
    "    total_sents += len(dii_split_to_sent_ids[split])\n",
    "print 'In total, there are [%s] sents.' % (total_sents)"
   ]
  },
  {
   "cell_type": "code",
   "execution_count": 14,
   "metadata": {},
   "outputs": [],
   "source": [
    "import matplotlib.pyplot as plt"
   ]
  },
  {
   "cell_type": "code",
   "execution_count": 15,
   "metadata": {},
   "outputs": [],
   "source": [
    "X = ['train', 'val', 'test']\n",
    "Y = [120465, 14970, 15165]"
   ]
  },
  {
   "cell_type": "code",
   "execution_count": 26,
   "metadata": {},
   "outputs": [
    {
     "data": {
      "text/plain": [
       "<BarContainer object of 3 artists>"
      ]
     },
     "execution_count": 26,
     "metadata": {},
     "output_type": "execute_result"
    },
    {
     "data": {
      "image/png": "[encoded data removed]",
      "text/plain": [
       "<Figure size 432x288 with 1 Axes>"
      ]
     },
     "metadata": {},
     "output_type": "display_data"
    }
   ],
   "source": [
    "plt.style.use('ggplot')\n",
    "plt.bar(X, Y)"
   ]
  },
  {
   "cell_type": "code",
   "execution_count": null,
   "metadata": {},
   "outputs": [],
   "source": []
  },
  {
   "cell_type": "code",
   "execution_count": null,
   "metadata": {},
   "outputs": [],
   "source": []
  },
  {
   "cell_type": "code",
   "execution_count": null,
   "metadata": {},
   "outputs": [],
   "source": []
  },
  {
   "cell_type": "code",
   "execution_count": null,
   "metadata": {},
   "outputs": [],
   "source": []
  },
  {
   "cell_type": "code",
   "execution_count": null,
   "metadata": {},
   "outputs": [],
   "source": []
  },
  {
   "cell_type": "code",
   "execution_count": null,
   "metadata": {},
   "outputs": [],
   "source": []
  },
  {
   "cell_type": "code",
   "execution_count": null,
   "metadata": {},
   "outputs": [],
   "source": []
  },
  {
   "cell_type": "code",
   "execution_count": null,
   "metadata": {},
   "outputs": [],
   "source": []
  },
  {
   "cell_type": "code",
   "execution_count": null,
   "metadata": {},
   "outputs": [],
   "source": []
  },
  {
   "cell_type": "code",
   "execution_count": null,
   "metadata": {},
   "outputs": [],
   "source": []
  },
  {
   "cell_type": "code",
   "execution_count": null,
   "metadata": {},
   "outputs": [],
   "source": []
  },
  {
   "cell_type": "code",
   "execution_count": null,
   "metadata": {},
   "outputs": [],
   "source": []
  },
  {
   "cell_type": "code",
   "execution_count": null,
   "metadata": {},
   "outputs": [],
   "source": []
  },
  {
   "cell_type": "code",
   "execution_count": null,
   "metadata": {},
   "outputs": [],
   "source": []
  },
  {
   "cell_type": "code",
   "execution_count": null,
   "metadata": {},
   "outputs": [],
   "source": []
  }
 ],
 "metadata": {
  "kernelspec": {
   "display_name": "Python 2",
   "language": "python",
   "name": "python2"
  },
  "language_info": {
   "codemirror_mode": {
    "name": "ipython",
    "version": 2
   },
   "file_extension": ".py",
   "mimetype": "text/x-python",
   "name": "python",
   "nbconvert_exporter": "python",
   "pygments_lexer": "ipython2",
   "version": "2.7.15"
  }
 },
 "nbformat": 4,
 "nbformat_minor": 1
}
